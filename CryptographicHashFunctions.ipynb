{
 "cells": [
  {
   "cell_type": "markdown",
   "metadata": {},
   "source": [
    "### Calculul valorilor hash folosind functiile hash criptografice MD5, SHA1, SHA2"
   ]
  },
  {
   "cell_type": "markdown",
   "metadata": {},
   "source": [
    "Pentru a intelege aplicatiile problemei coliziunilor (zilei de nastere) din Cursul 8, la atacul\n",
    "asupra functiilor hash criptografice, ilustram in acest\n",
    "notebook  valorile acestor functii pe diferite blocuri de date."
   ]
  },
  {
   "cell_type": "markdown",
   "metadata": {},
   "source": [
    "`Python` pune la dispozitie modulul `hashlib` care contine functiile ce genereaza valorile hash ale unor blocuri de date\n",
    "prin functiile hash criptografice `MD5`, `SHA1`, `SHA2`."
   ]
  },
  {
   "cell_type": "markdown",
   "metadata": {},
   "source": [
    "- `MD5` este o functie hash cu valori in  multimea stringurilor de 128 de biti, $\\{0,1\\}^{128}$.\n",
    "\n",
    "- `SHA1` ia valori in $\\{0,1\\}^{160}$.\n",
    "\n",
    "- `SHA2`  consta din mai multe  functii hash,  cu valori pe $224, 256, 384, 512$  biti."
   ]
  },
  {
   "cell_type": "markdown",
   "metadata": {},
   "source": [
    "Pentru a ilustra ca blocuri de date de lungimi diferite sunt aplicate de o functie hash intr-un string avand acelasi  numar fixat de biti, calculam  mai intai valoarea hash prin MD5 a  blocului de date 'anul1CTI@yahoogroups.com' si apoi a blocului mai lung, 'anul1CTI@yahoo.com grupul anului 1':"
   ]
  },
  {
   "cell_type": "code",
   "execution_count": 7,
   "metadata": {},
   "outputs": [
    {
     "name": "stdout",
     "output_type": "stream",
     "text": [
      "valoarea hash in hexa prin MD5 a adresei email este 1b241c539d702b32db9c61d45984d602\n",
      "lungimea in biti a valorii hash este: 128\n"
     ]
    }
   ],
   "source": [
    "import hashlib\n",
    "mes = hashlib.md5()#declara mes ca un obiect hash vid\n",
    "mes.update('anul1CTI@yahoogroups.com')# se updateaza obiectul hash prin concatenarea unui string\n",
    "s=mes.hexdigest()\n",
    "\n",
    "print 'valoarea hash in hexa prin MD5 a adresei email este', s\n",
    "print 'lungimea in biti a valorii hash este:', len(s)*4"
   ]
  },
  {
   "cell_type": "markdown",
   "metadata": {},
   "source": [
    "Concatenam acum la adresa email, stringul ' grupul anului 1' si afisam valoarea hash corespunzatoare\n",
    "si lungimea ei in biti:"
   ]
  },
  {
   "cell_type": "code",
   "execution_count": 8,
   "metadata": {},
   "outputs": [
    {
     "name": "stdout",
     "output_type": "stream",
     "text": [
      "valoarea hash in hexa prin MD5 a adresei email la care s-a concatenat un string este 67ede7eb4bf93b7459c9e483788d8bbb\n",
      "lungimea in biti a noii  valorii hash este: 128\n"
     ]
    }
   ],
   "source": [
    "mes.update(' grupul anului 1')\n",
    "sn=mes.hexdigest()\n",
    "print 'valoarea hash in hexa prin MD5 a adresei email la care s-a concatenat un string este', sn\n",
    "print 'lungimea in biti a noii  valorii hash este:', len(sn)*4\n"
   ]
  },
  {
   "cell_type": "markdown",
   "metadata": {},
   "source": [
    "Sa experimentam acum in acelasi mod functia hash `SHA1`:"
   ]
  },
  {
   "cell_type": "code",
   "execution_count": 9,
   "metadata": {},
   "outputs": [
    {
     "name": "stdout",
     "output_type": "stream",
     "text": [
      "valoarea hash in hexa prin SHA1 a adresei email este 6676aa692b16698b50f3e72f0c335b452fd9b828\n",
      "lungimea in biti a valorii hash este: 160\n"
     ]
    }
   ],
   "source": [
    "m1=hashlib.sha1('anul1CTI@yahoogroups.com')\n",
    "s1=m1.hexdigest()\n",
    "\n",
    "print 'valoarea hash in hexa prin SHA1 a adresei email este', s1\n",
    "print 'lungimea in biti a valorii hash este:', len(s1)*4                "
   ]
  },
  {
   "cell_type": "code",
   "execution_count": 10,
   "metadata": {},
   "outputs": [
    {
     "name": "stdout",
     "output_type": "stream",
     "text": [
      "valoarea hash in hexa prin SHA1 a adresei email la care s-a concatenat un string este fd97c85f53695bb79a13ec3e48bac5adb19e1928\n",
      "lungimea in biti a noii  valorii hash este: 160\n"
     ]
    }
   ],
   "source": [
    "m1.update(' grupul anului 1')\n",
    "s1n=m1.hexdigest()\n",
    "print 'valoarea hash in hexa prin SHA1 a adresei email la care s-a concatenat un string este', s1n\n",
    "print 'lungimea in biti a noii  valorii hash este:', len(s1n)*4\n"
   ]
  },
  {
   "cell_type": "markdown",
   "metadata": {},
   "source": [
    "Exemplu folosind `SHA2`:"
   ]
  },
  {
   "cell_type": "code",
   "execution_count": 11,
   "metadata": {},
   "outputs": [
    {
     "name": "stdout",
     "output_type": "stream",
     "text": [
      "Valoarea hash prin SHA2 pe 256 biti este: f64648d5b106e7705b8ecfdad65e10b6f4269387757ccce8535bcb22ed7e828f\n",
      "lungimea in biti a valorii hash: 256\n"
     ]
    }
   ],
   "source": [
    "mesaj=hashlib.sha256('Contul meu secret dintr-un paradis financiar este 6421 1345 2974 6852')\n",
    "valh=mesaj.hexdigest()\n",
    "print 'Valoarea hash prin SHA2 pe 256 biti este:', valh\n",
    "print 'lungimea in biti a valorii hash:', len(valh)*4"
   ]
  },
  {
   "cell_type": "code",
   "execution_count": 12,
   "metadata": {},
   "outputs": [
    {
     "data": {
      "text/html": [
       "<style>\n",
       "    @font-face {\n",
       "        font-family: \"Computer Modern\";\n",
       "        src: url('http://mirrors.ctan.org/fonts/cm-unicode/fonts/otf/cmunss.otf');\n",
       "    }\n",
       "    div.cell{\n",
       "        width:800px;\n",
       "        margin-left:16% !important;\n",
       "        margin-right:auto;\n",
       "    }\n",
       "    h1 {\n",
       "        font-family: Helvetica, serif;\n",
       "    }\n",
       "    h4{\n",
       "        margin-top:12px;\n",
       "        margin-bottom: 3px;\n",
       "       }\n",
       "    div.text_cell_render{\n",
       "        font-family: Computer Modern, \"Helvetica Neue\", Arial, Helvetica, Geneva, sans-serif;\n",
       "        line-height: 145%;\n",
       "        font-size: 130%;\n",
       "        width:800px;\n",
       "        margin-left:auto;\n",
       "        margin-right:auto;\n",
       "    }\n",
       "    .CodeMirror{\n",
       "            font-family: \"Source Code Pro\", source-code-pro,Consolas, monospace;\n",
       "    }\n",
       "    .prompt{\n",
       "        display: None;\n",
       "    }\n",
       "    .text_cell_render h5 {\n",
       "        font-weight: 300;\n",
       "        font-size: 22pt;\n",
       "        color: #4057A1;\n",
       "        font-style: italic;\n",
       "        margin-bottom: .5em;\n",
       "        margin-top: 0.5em;\n",
       "        display: block;\n",
       "    }\n",
       "    \n",
       "    .warning{\n",
       "        color: rgb( 240, 20, 20 )\n",
       "        }  \n",
       "</style>\n",
       "<script>\n",
       "    MathJax.Hub.Config({\n",
       "                        TeX: {\n",
       "                           extensions: [\"AMSmath.js\"]\n",
       "                           },\n",
       "                tex2jax: {\n",
       "                    inlineMath: [ ['$','$'], [\"\\\\(\",\"\\\\)\"] ],\n",
       "                    displayMath: [ ['$$','$$'], [\"\\\\[\",\"\\\\]\"] ]\n",
       "                },\n",
       "                displayAlign: 'center', // Change this to 'center' to center equations.\n",
       "                \"HTML-CSS\": {\n",
       "                    styles: {'.MathJax_Display': {\"margin\": 4}}\n",
       "                }\n",
       "        });\n",
       "</script>\n"
      ],
      "text/plain": [
       "<IPython.core.display.HTML at 0x49e7e48>"
      ]
     },
     "execution_count": 12,
     "metadata": {},
     "output_type": "execute_result"
    }
   ],
   "source": [
    "from IPython.core.display import HTML\n",
    "def  css_styling():\n",
    "    styles = open(\"./styles/custom.css\", \"r\").read()\n",
    "    return HTML(styles)\n",
    "css_styling()"
   ]
  }
 ],
 "metadata": {
  "kernelspec": {
   "display_name": "Python [default]",
   "language": "python",
   "name": "python2"
  },
  "language_info": {
   "codemirror_mode": {
    "name": "ipython",
    "version": 2
   },
   "file_extension": ".py",
   "mimetype": "text/x-python",
   "name": "python",
   "nbconvert_exporter": "python",
   "pygments_lexer": "ipython2",
   "version": "2.7.13"
  }
 },
 "nbformat": 4,
 "nbformat_minor": 1
}
