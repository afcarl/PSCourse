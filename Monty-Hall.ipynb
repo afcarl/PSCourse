{
 "cells": [
  {
   "cell_type": "markdown",
   "metadata": {},
   "source": [
    "##<center> Monty-Hall</center>##"
   ]
  },
  {
   "cell_type": "markdown",
   "metadata": {},
   "source": [
    "Problema cunoscuta sub numele *Monty Hall* sau *Let's make a deal* este o problema de probabilitati a carei solutie\n",
    "pare nefireasca. Ea este legata de emisiunile/spectacolele TV cu aceste [nume](http://en.wikipedia.org/wiki/Monty_Hall_problem).\n",
    "\n"
   ]
  },
  {
   "cell_type": "markdown",
   "metadata": {},
   "source": [
    "**Formularea problemei**:"
   ]
  },
  {
   "cell_type": "markdown",
   "metadata": {},
   "source": [
    "Emisiune concurs: in spatele a trei usi este plasata o masina (sau un bilet de vacanta,\n",
    "o suma mare de bani), respectiv doua capre (sau orice altceva avand o valoare cu mult mai redusa fata de oferta din spatele usii cu valoare).\n",
    "\n",
    "Concurentul alege o usa, dar nu o deschide. Prezentatorul in schimb deschide o alta usa in spatele careia stie sigur ca este o capra si apoi il   intreaba pe concurent: vrei sa schimbi usa?\n",
    "\n",
    "Intrebarea careia incercam sa-i raspundem teoretic si prin simularea jocului este urmatoarea: ar trebui sa schimbe concurentul usa pentru a-si mari sansa de a o nimeri pe cea \"valoroasa\"?\n",
    "   "
   ]
  },
  {
   "cell_type": "markdown",
   "metadata": {},
   "source": [
    "Video-ul urmator prezinta ideea de baza a concursului *Let's make a deal*:"
   ]
  },
  {
   "cell_type": "code",
   "execution_count": 1,
   "metadata": {
    "collapsed": false
   },
   "outputs": [
    {
     "data": {
      "text/html": [
       "\n",
       "        <iframe\n",
       "            width=\"400\"\n",
       "            height=\"300\"\n",
       "            src=\"https://www.youtube.com/embed/mhlc7peGlGg#t=15\"\n",
       "            frameborder=\"0\"\n",
       "            allowfullscreen\n",
       "        ></iframe>\n",
       "        "
      ],
      "text/plain": [
       "<IPython.lib.display.YouTubeVideo at 0x3fccc50>"
      ]
     },
     "execution_count": 1,
     "metadata": {},
     "output_type": "execute_result"
    }
   ],
   "source": [
    "from IPython.display import YouTubeVideo\n",
    "YouTubeVideo('mhlc7peGlGg#t=15')"
   ]
  },
  {
   "cell_type": "markdown",
   "metadata": {},
   "source": [
    "#### Solutia  pe care ar da-o un necunoscator al teoriei probabilitatilor:"
   ]
  },
  {
   "cell_type": "markdown",
   "metadata": {},
   "source": [
    "Codificam masina cu \"m\" si capra cu \"c\". Avem $3$  posibilitati de plasare a masinii si celor doua capre\n",
    "in trei incaperi:\n",
    "    \n",
    "$\\Omega=\\{(m, c, c),   (c, m, c), (c, c, m)\\}$  "
   ]
  },
  {
   "cell_type": "markdown",
   "metadata": {},
   "source": [
    "Daca concurentul alege o usa la intamplare el are sansa de a castiga de $1/3$.\n",
    "\n",
    "Dupa ce i s-a aratat o usa in care este o capra, suntem tentati sa spunem ca sansa de a castiga, alegand oricare din usile ramase\n",
    "este:\n",
    "\n",
    "$P(\\mbox{castig}|U_d=c)=1/2$, unde  $(U_d=c)$  este evenimentul ca in spatele usii deschise de prezentator sa fie o capra.\n",
    "\n",
    "Cu alte cuvinte, rationamentul comun conduce la ideea ca  n-are importanta daca concurentul pastreaza usa aleasa sau schimba usa.  Dar este incorect!!!!!"
   ]
  },
  {
   "cell_type": "markdown",
   "metadata": {},
   "source": [
    "### Solutia folosind  formula lui Bayes###"
   ]
  },
  {
   "cell_type": "markdown",
   "metadata": {},
   "source": [
    "Notam cu  $H_k$, $k=1,2,3$,  ipotezele privind  amplasarea premiilor in spatele celor trei usi, si anume\n",
    " $(m,c,c)$, $(c,m,c)$, $(c,c,m)$. \n",
    "\n",
    "Probabilitatile apriori ale acestor ipoteze sunt\n",
    "$P(H_k)=1/3$, $k=1,2,3$.\n",
    "\n"
   ]
  },
  {
   "cell_type": "markdown",
   "metadata": {},
   "source": [
    "\n",
    "Presupunem pentru simplitatea prezentarii ca concurentul alege usa 1, iar prezentatorul deschide usa 2, in spatele careia stie sigur ca este o capra.\n",
    "\n"
   ]
  },
  {
   "cell_type": "markdown",
   "metadata": {},
   "source": [
    "#### Calculul probabilitatii de a castiga daca concurentul nu schimba usa aleasa"
   ]
  },
  {
   "cell_type": "markdown",
   "metadata": {},
   "source": [
    "Conform formulei lui Bayes, probabilitatea ca masina sa fie plasata in spatele usii alese\n",
    "de concurent, rectificata de informatia ca in spatele usii $2$ e o capra este:\n",
    "\n",
    "$P(H_1|U_2)=\\displaystyle\\frac{P(H_1)P(U_2|H_1)}{P(H_1)P(U_2|H_1)+P(H_2)P(U_2|H_2)+P(H_3)P(U_2|H_3)}$\n",
    "\n",
    "\n",
    "Deoarece $P(U_2|H_2)=0$ (adica stiind ca masina este in spatele usii 2, probabilitatea ca prezentatorul  sa deschida aceasta usa este 0), avem:\n",
    "\n",
    "$P(H_1|U_2)=\\displaystyle\\frac{P(H_1)P(U_2|H_1)}{P(H_1)P(U_2|H_1)+P(H_3)P(U_2|H_3)}$"
   ]
  },
  {
   "cell_type": "markdown",
   "metadata": {},
   "source": [
    " $P(U_2|H_1)=1/2$, deoarece stiind ca masina este in spatele usii 1 (avem conditionare de evenimentul $H_1)$) prezentatorul alege uniform intre cele doua usi $2$ si $3$. \n",
    "\n",
    "Daca deschiderea unei usi este conditionata de $H_3$, adica stie ca in spatele usii 3 este masina, iar concurentul a ales usa 1, nu-i ramane decat sa deschida usa 2, si nici intr-un caz usa 3. Prin urmare avem\n",
    "$P(U_2|H_3)=1$.\n",
    "\n",
    "Inlocuind in formula lui Bayes rezulta ca:\n",
    "\n",
    "\n",
    "$P(H_1|U_2)=\\displaystyle\\frac{(1/3)(1/2)}{(1/3)(1/2)+(1/3) 1}=\\displaystyle\\frac{1/6}{1/6+1/3}=1/3$"
   ]
  },
  {
   "cell_type": "markdown",
   "metadata": {},
   "source": [
    "Deoarece   $H_1\\cup H_2\\cup H_3=\\Omega$,  avem ca:\n",
    "$P_{U_2}(H_1\\cup H_2\\cup H_3)=P_{U_2}(\\Omega)=1$. \n",
    "\n",
    "Ipotezele $H_1, H_2, H_3$ fiind  mutual exclusive, iar functia  $P_{U_2}$ fiind o  functie de probabilitate, rezulta ca:\n",
    "    \n",
    "$P(H_1|U_2)+P(H_2|U_2)+P(H_3|U_2)=1$.\n",
    "\n",
    "Evident,  $P(H_2|U_2)=0$ si astfel probabilitatea ca masina sa fie in spatele usii 3, stiind ca in spatele celei de-a doua este o capra, este:\n",
    "    \n",
    "$P(H_3|U_2)=1-P(H_1|U_2)=1-1/3=2/3$.\n",
    "\n",
    "Deci daca  concurentul se hotaraste sa schimbe usa  1, aleasa initial, cu unica posibilitate, adica usa 3, atunci  sansa de a castiga masina este  dubla fata de cazul in care pastreaza usa initiala."
   ]
  },
  {
   "cell_type": "markdown",
   "metadata": {},
   "source": [
    "Rationamentul si rezultatul este identic pentru orice alta alegere a concurentului si respectiv a prezentatorului."
   ]
  },
  {
   "cell_type": "markdown",
   "metadata": {},
   "source": [
    "#### Simularea  jocului Monty Hall"
   ]
  },
  {
   "cell_type": "markdown",
   "metadata": {},
   "source": [
    "Sa ilustram acest rezultat prin simulare in `Python` a jocului. Adica repetam experimentul alegerii\n",
    "de un numar $Nr$ de ori, fie cu optiunea de schimabare a usii alese initial, fie fara schimbare si numaram de cate ori castiga, adica nimereste usa ce are in spatele ei o masina."
   ]
  },
  {
   "cell_type": "code",
   "execution_count": 2,
   "metadata": {
    "collapsed": false
   },
   "outputs": [],
   "source": [
    "import random as rnd\n",
    "from __future__ import division  # importand division m/n este evaluat ca float(m)/n"
   ]
  },
  {
   "cell_type": "code",
   "execution_count": 3,
   "metadata": {
    "collapsed": false
   },
   "outputs": [],
   "source": [
    "def alegeUsa(A): #alege dintr-o lista de 3 elemente din care doua sunt setate pe 'c' si una pe'm'\n",
    "    Conc=A.pop(rnd.randint(0, 2))#alegerea concurentului  \n",
    "    Prez= A.pop(A.index('c'))#alegerea prezentatorului emisiunii\n",
    "    return Conc, Prez\n"
   ]
  },
  {
   "cell_type": "markdown",
   "metadata": {},
   "source": [
    "De exemplu, daca amplasarea premiilor este  `A=['c', 'm', 'c']` atunci `rnd.randint(0,2)` genereaza aleator un indice $i$ al \n",
    "elementelor listei $A$. \n",
    "\n",
    "`A.pop(i)` returneaza\n",
    "elementul `A[i]` si il sterge din lista (vezi \n",
    "[aici](http://docs.python.org/2/tutorial/datastructures.html) metode pentru liste).\n",
    "\n",
    "Ilustrarea prin rularea liniilor de cod aferente:"
   ]
  },
  {
   "cell_type": "code",
   "execution_count": 4,
   "metadata": {
    "collapsed": false
   },
   "outputs": [
    {
     "name": "stdout",
     "output_type": "stream",
     "text": [
      "c\n",
      "['c', 'm']\n"
     ]
    }
   ],
   "source": [
    "A=['c', 'm', 'c']\n",
    "Conc=A.pop(rnd.randint(0, 2))\n",
    "print Conc\n",
    "print A\n"
   ]
  },
  {
   "cell_type": "markdown",
   "metadata": {},
   "source": [
    "`A.index('c')` returneaza  indicele primului element  din lista ramasa, care este egal cu 'c' si astfel prezentatorul\n",
    "alege o usa in spatele careia este o capra: `Prez=A.pop(A.index('c'))`. \n",
    "\n",
    "Dupa executia acestei  linii in lista `A`\n",
    "ramane doar un singur element."
   ]
  },
  {
   "cell_type": "code",
   "execution_count": 5,
   "metadata": {
    "collapsed": true
   },
   "outputs": [],
   "source": [
    "def Monty_Hall(A, schimba=True):\n",
    "    #A este tripletul ce da amplasarea obiectelor in spatele usilor\n",
    "    Conc, Prez=alegeUsa(A)# Concurentul si prezentatorul aleg cate o usa  conform regulii jocului \n",
    "    if (schimba):\n",
    "        alegerea=A[0]#in lista mai exista un singur element si aceasta este alegerea noua\n",
    "    else:\n",
    "        alegerea=Conc\n",
    "    return alegerea    "
   ]
  },
  {
   "cell_type": "code",
   "execution_count": 6,
   "metadata": {
    "collapsed": true
   },
   "outputs": [],
   "source": [
    "def simulare_MH(Nr, optiune):#repeta experimentul MH de Nr ori cu  optiunea schimba (True sau False)\n",
    "   \n",
    "    nrcastig=0\n",
    "    for n in range(Nr):\n",
    "        A=rnd.choice([['m', 'c', 'c'],['c', 'm', 'c'],['c', 'c', 'm']])# alege la intamplare o amplasare\n",
    "                                                                       # a premiilor din cele 3 posibile\n",
    "        rez=Monty_Hall(A, schimba=optiune)\n",
    "        if rez=='m':\n",
    "            nrcastig+=1\n",
    "    return nrcastig    "
   ]
  },
  {
   "cell_type": "markdown",
   "metadata": {},
   "source": [
    "Inainte de a experimenta  jocul  sintetizam principiul de implementare:\n",
    "    \n",
    "- Jocul se repeta de `Nr` ori, fie cu optiunea alege o noua usa dupa ce prezentatorul a deschis usa cu capra, fie nu alege.\n",
    "- La inceputul jocului se alege la intamplare o varianta de amplasare a masinii (din cele 3 posibile)\n",
    "- functia `alegeUsa` face alegerea aleatoare a usii pentru concurent si pentru prezentator."
   ]
  },
  {
   "cell_type": "code",
   "execution_count": 7,
   "metadata": {
    "collapsed": false
   },
   "outputs": [
    {
     "name": "stdout",
     "output_type": "stream",
     "text": [
      "Probabilitatea sa castige daca  schimba usa aleasa= 0.678\n",
      "Probabilitatea sa castige daca nu  schimba usa aleasa= 0.348\n"
     ]
    }
   ],
   "source": [
    "opt_schimb=True# optiunea schimba sau nu\n",
    "Nr=1000\n",
    "nrc=simulare_MH(Nr, opt_schimb)\n",
    "print \"Probabilitatea sa castige daca  schimba usa aleasa=\", nrc/Nr\n",
    "\n",
    "\n",
    "nrc=simulare_MH(Nr, False)\n",
    "print \"Probabilitatea sa castige daca nu  schimba usa aleasa=\", nrc/Nr\n"
   ]
  },
  {
   "cell_type": "markdown",
   "metadata": {},
   "source": [
    "Orice varianta ati incerca, probabilitatea de castig este aproximativ 0.33, daca nu schimba usa aleasa initial\n",
    "si respectiv aproximativ  0.66, daca o schimba."
   ]
  },
  {
   "cell_type": "markdown",
   "metadata": {},
   "source": [
    "Deci daca jucati, alegeti sa schimbati usa!!"
   ]
  },
  {
   "cell_type": "markdown",
   "metadata": {},
   "source": [
    "... si in final, solutia data de [xkcd](https://xkcd.com/1282/)"
   ]
  },
  {
   "cell_type": "code",
   "execution_count": 8,
   "metadata": {
    "collapsed": false
   },
   "outputs": [
    {
     "data": {
      "text/html": [
       "<img src=\"http://imgs.xkcd.com/comics/monty_hall.png\"/>"
      ],
      "text/plain": [
       "<IPython.core.display.Image object>"
      ]
     },
     "execution_count": 8,
     "metadata": {},
     "output_type": "execute_result"
    }
   ],
   "source": [
    "from IPython.display import Image\n",
    "\n",
    "Image(url='http://imgs.xkcd.com/comics/monty_hall.png')"
   ]
  },
  {
   "cell_type": "code",
   "execution_count": 9,
   "metadata": {
    "collapsed": false
   },
   "outputs": [
    {
     "data": {
      "text/html": [
       "<style>\n",
       "    /*body {\n",
       "        background-color: #F5F5F5;\n",
       "    }*/\n",
       "    div.cell{\n",
       "        width: 900px;\n",
       "        margin-left: 13% !important;\n",
       "        margin-right: auto;\n",
       "    }\n",
       "    #notebook li { /* More space between bullet points */\n",
       "    margin-top:0.8em;\n",
       "    }\n",
       "\n",
       "    h1 {\n",
       "        font-family: 'Alegreya Sans', sans-serif;\n",
       "    }\n",
       "    .text_cell_render h1 {\n",
       "        font-weight: 200;\n",
       "        font-size: 40pt;\n",
       "        line-height: 100%;\n",
       "        color: rgb(8, 66, 133);\n",
       "        margin-bottom: 0em;\n",
       "        margin-top: 0em;\n",
       "        display: block;\n",
       "    }\n",
       "    h2 {\n",
       "        font-family: 'Fenix', serif;\n",
       "        text-indent:1em;\n",
       "    }\n",
       "    .text_cell_render h2 {\n",
       "        font-weight: 200;\n",
       "        font-size: 28pt;\n",
       "        line-height: 100%;\n",
       "        color: rgb(8, 66, 133);\n",
       "        margin-bottom: 1.5em;\n",
       "        margin-top: 0.5em;\n",
       "        display: block;\n",
       "    }\n",
       "    h3 {\n",
       "        font-family: 'Fenix', serif;\n",
       "        %margin-top:12px;\n",
       "        %margin-bottom: 3px;\n",
       "    }\n",
       "    .text_cell_render h3 {\n",
       "        font-weight: 300;\n",
       "        font-size: 18pt;\n",
       "        line-height: 100%;\n",
       "        color: rgb(8, 66, 133);\n",
       "        margin-bottom: 0.5em;\n",
       "        margin-top: 2em;\n",
       "        display: block;\n",
       "    }\n",
       "    h4 {\n",
       "        font-family: 'Fenix', serif;\n",
       "    }\n",
       "    .text_cell_render h4 {\n",
       "        font-weight: 300;\n",
       "        font-size: 16pt;\n",
       "        color: rgb(8, 66, 133);\n",
       "        margin-bottom: 0.5em;\n",
       "        margin-top: 0.5em;\n",
       "        display: block;\n",
       "    }\n",
       "    h5 {\n",
       "        font-family: 'Alegreya Sans', sans-serif;\n",
       "    }\n",
       "    .text_cell_render h5 {\n",
       "        font-weight: 300;\n",
       "        font-style: normal;\n",
       "        font-size: 16pt;\n",
       "        margin-bottom: 0em;\n",
       "        margin-top: 1.5em;\n",
       "        display: block;\n",
       "        }\n",
       "    div.text_cell_render{\n",
       "        font-family: 'Alegreya Sans',Computer Modern, \"Helvetica Neue\", Arial, Helvetica, Geneva, sans-serif;\n",
       "        line-height: 145%;\n",
       "        font-size: 130%;\n",
       "        width:900px;\n",
       "        margin-left:auto;\n",
       "        margin-right:auto;\n",
       "        %text-align:justify;\n",
       "        %text-justify:inter-word;\n",
       "    }\n",
       "    \n",
       "    \n",
       "    code{\n",
       "      font-size: 78%;\n",
       "    }\n",
       "    .rendered_html code{\n",
       "        background-color: transparent;\n",
       "        white-space: inherit;   \n",
       "    }\n",
       "    .prompt{\n",
       "        display: None;\n",
       "     }\n",
       "    .rendered_html code{\n",
       "    background-color: transparent;\n",
       "    }\n",
       "\n",
       "    blockquote{\n",
       "      display:block;\n",
       "      background: #f3f3f3;\n",
       "      font-family: \"Open sans\",verdana,arial,sans-serif;\n",
       "      width:610px;\n",
       "      padding: 15px 15px 15px 15px;\n",
       "      text-align:justify;\n",
       "      text-justify:inter-word;\n",
       "      }\n",
       "      blockquote p {\n",
       "        margin-bottom: 0;\n",
       "        line-height: 125%;\n",
       "        font-size: 100%;\n",
       "      }\n",
       "   /* element.style {\n",
       "    } */\n",
       "</style>\n",
       "<script>\n",
       "    MathJax.Hub.Config({\n",
       "                        TeX: {\n",
       "                           extensions: [\"AMSmath.js\"]\n",
       "                           },\n",
       "                tex2jax: {\n",
       "                    inlineMath: [ [\"$\",\"$\"], [\"\\\\(\",\"\\\\)\"] ],\n",
       "                    displayMath: [ [\"$$\",\"$$\"], [\"\\\\[\",\"\\\\]\"] ]\n",
       "                },\n",
       "                displayAlign: \"center\", // Change this to \"center\" to center equations.\n",
       "                \"HTML-CSS\": {\n",
       "                    styles: {\".MathJax_Display\": {\"margin\": 4}}\n",
       "                }\n",
       "        });\n",
       "</script>\n"
      ],
      "text/plain": [
       "<IPython.core.display.HTML object>"
      ]
     },
     "execution_count": 9,
     "metadata": {},
     "output_type": "execute_result"
    }
   ],
   "source": [
    "from IPython.core.display import HTML\n",
    "def  css_styling():\n",
    "    styles = open(\"./custom.css\", \"r\").read()\n",
    "    return HTML(styles)\n",
    "css_styling()"
   ]
  }
 ],
 "metadata": {
  "kernelspec": {
   "display_name": "Python 2",
   "language": "python",
   "name": "python2"
  },
  "language_info": {
   "codemirror_mode": {
    "name": "ipython",
    "version": 2
   },
   "file_extension": ".py",
   "mimetype": "text/x-python",
   "name": "python",
   "nbconvert_exporter": "python",
   "pygments_lexer": "ipython2",
   "version": "2.7.9"
  }
 },
 "nbformat": 4,
 "nbformat_minor": 0
}
